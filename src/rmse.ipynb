{
 "cells": [
  {
   "cell_type": "code",
   "execution_count": 51,
   "metadata": {},
   "outputs": [
    {
     "name": "stdout",
     "output_type": "stream",
     "text": [
      "0.3413209633175202\n"
     ]
    }
   ],
   "source": [
    "from sklearn.metrics import mean_squared_error\n",
    "from math import sqrt\n",
    "import numpy as np\n",
    "import pandas as pd\n",
    "\n",
    "test_file = './../dataset/test.csv'\n",
    "prediction_file = './../dataset/prediction.csv'\n",
    "\n",
    "test_df = pd.read_csv(test_file)\n",
    "prediction_df = pd.read_csv(prediction_file)\n",
    "\n",
    "test_df = test_df.loc[:42612,\"X1000\":].to_numpy()\n",
    "prediction_df = prediction_df.loc[:42612,\"X1000\":].to_numpy()\n",
    "\n",
    "rmse = sqrt(mean_squared_error(test_df, prediction_df))\n",
    "print(rmse)"
   ]
  }
 ],
 "metadata": {
  "kernelspec": {
   "display_name": "Python 3",
   "language": "python",
   "name": "python3"
  },
  "language_info": {
   "codemirror_mode": {
    "name": "ipython",
    "version": 3
   },
   "file_extension": ".py",
   "mimetype": "text/x-python",
   "name": "python",
   "nbconvert_exporter": "python",
   "pygments_lexer": "ipython3",
   "version": "3.6.8"
  }
 },
 "nbformat": 4,
 "nbformat_minor": 2
}
