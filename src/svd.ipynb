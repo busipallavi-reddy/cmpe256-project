{
 "cells": [
  {
   "cell_type": "code",
   "execution_count": 4,
   "metadata": {},
   "outputs": [],
   "source": [
    "import numpy as np\n",
    "import pandas as pd"
   ]
  },
  {
   "cell_type": "code",
   "execution_count": 9,
   "metadata": {},
   "outputs": [],
   "source": [
    "class Recommend():\n",
    "    \n",
    "    def __init__(self,similarity,user,N):\n",
    "        self.similiarity = similarity\n",
    "        self.user = user\n",
    "        self.N = N\n",
    "        self.factor = 0.9\n",
    "        \n",
    "    def pearsonCorrelationSimilarity(A, B):\n",
    "        if len(A) < 3: return 1\n",
    "        else: return 0.5 + 0.5 * np.corrcoef(A, B, rowvar=0)[0][1]\n",
    "    \n",
    "    def cosineSimilarity(A, B):\n",
    "        num = float(A.T*B)\n",
    "        denom = np.linalg.norm(A) * np.linalg.norm(B)\n",
    "        return 0.5 + 0.5 * (num/denom)\n",
    "    \n",
    "    def loadData(self):\n",
    "        ratings_matrix = pd.read_csv('./datasets/MS_ratings_matrix.csv', index_col=0) # the first column is index\n",
    "        return ratings_matrix,np.mat(ratings_matrix)\n",
    "    # loadData()\n",
    "    \n",
    "    def getSingularValues(Sigma,factor=0.9):\n",
    "        square  = 0\n",
    "        energy = 0\n",
    "        for si in Sigma:\n",
    "            square = si*si\n",
    "            energy = energy+square \n",
    "        threshold =energy*factor\n",
    "        energy = 0\n",
    "        for i, si in enumerate(Sigma):\n",
    "            sqaure = si * si\n",
    "            energy += sqaure\n",
    "            if energy > threshold:\n",
    "                break\n",
    "        return i"
   ]
  },
  {
   "cell_type": "code",
   "execution_count": 15,
   "metadata": {
    "scrolled": true
   },
   "outputs": [
    {
     "name": "stdout",
     "output_type": "stream",
     "text": [
      "       X1000  X1001  X1002  X1003  X1004  X1005  X1006  X1007  X1008  X1009  \\\n",
      "10001      1      1      1      0      0      0      0      0      0      0   \n",
      "10002      0      1      0      1      0      0      0      0      0      0   \n",
      "10003      0      1      0      1      1      0      0      0      0      0   \n",
      "10004      0      0      0      0      0      1      0      0      0      0   \n",
      "10005      0      0      0      0      0      0      1      0      0      0   \n",
      "...      ...    ...    ...    ...    ...    ...    ...    ...    ...    ...   \n",
      "42707      0      0      0      0      1      0      0      0      1      1   \n",
      "42708      0      0      0      0      0      0      0      0      1      0   \n",
      "42709      0      1      0      1      0      0      0      0      0      0   \n",
      "42710      0      1      0      0      0      0      0      0      0      0   \n",
      "42711      0      0      0      0      0      0      0      0      1      0   \n",
      "\n",
      "       ...  X1275  X1276  X1277  X1278  X1279  X1280  X1281  X1282  X1283  \\\n",
      "10001  ...      0      0      0      0      0      0      0      0      0   \n",
      "10002  ...      0      0      0      0      0      0      0      0      0   \n",
      "10003  ...      0      0      0      0      0      0      0      0      0   \n",
      "10004  ...      0      0      0      0      0      0      0      0      0   \n",
      "10005  ...      0      0      0      0      0      0      0      0      0   \n",
      "...    ...    ...    ...    ...    ...    ...    ...    ...    ...    ...   \n",
      "42707  ...      0      0      0      0      0      0      0      0      0   \n",
      "42708  ...      0      0      0      0      0      0      0      0      0   \n",
      "42709  ...      0      0      0      0      0      0      0      0      0   \n",
      "42710  ...      0      0      0      0      0      0      0      0      0   \n",
      "42711  ...      0      0      0      0      0      0      0      0      0   \n",
      "\n",
      "       X1284  \n",
      "10001      0  \n",
      "10002      0  \n",
      "10003      0  \n",
      "10004      0  \n",
      "10005      0  \n",
      "...      ...  \n",
      "42707      0  \n",
      "42708      0  \n",
      "42709      0  \n",
      "42710      0  \n",
      "42711      0  \n",
      "\n",
      "[32711 rows x 285 columns]\n"
     ]
    }
   ],
   "source": [
    "r = Recommend(\"cosine\",100,5)\n",
    "data,matrix = r.loadData()\n",
    "print(data)\n"
   ]
  },
  {
   "cell_type": "code",
   "execution_count": 16,
   "metadata": {},
   "outputs": [],
   "source": [
    "U, Sigma, VT = np.linalg.svd(matrix, full_matrices=False)\n",
    "# i = r.getSingularValues(Sigma)"
   ]
  },
  {
   "cell_type": "code",
   "execution_count": null,
   "metadata": {},
   "outputs": [],
   "source": []
  }
 ],
 "metadata": {
  "kernelspec": {
   "display_name": "Python 3",
   "language": "python",
   "name": "python3"
  },
  "language_info": {
   "codemirror_mode": {
    "name": "ipython",
    "version": 3
   },
   "file_extension": ".py",
   "mimetype": "text/x-python",
   "name": "python",
   "nbconvert_exporter": "python",
   "pygments_lexer": "ipython3",
   "version": "3.7.4"
  }
 },
 "nbformat": 4,
 "nbformat_minor": 2
}
