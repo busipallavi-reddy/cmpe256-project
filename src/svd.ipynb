{
 "cells": [
  {
   "cell_type": "code",
   "execution_count": 1,
   "metadata": {},
   "outputs": [],
   "source": [
    "# Import libraries"
   ]
  },
  {
   "cell_type": "code",
   "execution_count": 2,
   "metadata": {},
   "outputs": [],
   "source": [
    "import numpy as np\n",
    "import pandas as pd"
   ]
  },
  {
   "cell_type": "code",
   "execution_count": 3,
   "metadata": {},
   "outputs": [],
   "source": [
    "# Class Recommend for loadind data, dimensionality reduction and prediction methods"
   ]
  },
  {
   "cell_type": "code",
   "execution_count": 4,
   "metadata": {},
   "outputs": [],
   "source": [
    "class Recommend():\n",
    "    def __init__(self,similarity,user,N):\n",
    "        self.similiarity = similarity\n",
    "        self.user = user\n",
    "        self.N = N\n",
    "        self.threshold = 0.9\n",
    "        \n",
    "    def loadData(self,path):\n",
    "        self.ratings_matrix = pd.read_csv(path, index_col=0)\n",
    "        self.data = np.mat(self.ratings_matrix)      \n",
    "        \n",
    "    def processOriginalData(self,path):\n",
    "        pageId = []\n",
    "        description = []\n",
    "        url = []\n",
    "        with open(path, 'r') as file:\n",
    "            lines = file.read().splitlines()\n",
    "            for line in lines:\n",
    "                items = line.split(',')\n",
    "                if items[0] == 'A':\n",
    "                    pageId.append('X' + str(items[1]))\n",
    "                    description.append(items[3])\n",
    "                    url.append(items[4])\n",
    "        data_table = pd.DataFrame({'Description': description, 'url': url}, index=pageId)\n",
    "        return data_table\n",
    "    \n",
    "    def processSVD(self):\n",
    "        U, Sigma, VT = np.linalg.svd(self.data, full_matrices=False)\n",
    "        return U,Sigma,VT\n",
    "    \n",
    "    def processSingularValue(self,Sigma):\n",
    "        square  = 0\n",
    "        energy = 0\n",
    "        for si in Sigma:\n",
    "            square = si*si\n",
    "            energy = energy+square \n",
    "        threshold =energy*self.threshold\n",
    "        energy = 0\n",
    "        for i, si in enumerate(Sigma):\n",
    "            sqaure = si * si\n",
    "            energy += sqaure\n",
    "            if energy > threshold:\n",
    "                break\n",
    "        return i\n",
    "    \n",
    "    def processNewSVD(self,U,Sigma,VT,index):\n",
    "        return U[:, :index], Sigma[:index], VT[:index, :]\n",
    "    \n",
    "    def getUnRatedItems(self):\n",
    "        return np.nonzero(self.data[self.user, :].A == 0)[1]\n",
    "    \n",
    "    def getDiagonalMatrix(self,Sigma_new):\n",
    "        return np.mat(np.eye(len(Sigma_new)) * Sigma_new)\n",
    "    \n",
    "    def getTransformedItems(self,U,diag):\n",
    "        return self.data.T * U * diag.I\n",
    "    \n",
    "    def cosineSimilarity(self,A, B):\n",
    "        num = float(A.T*B)\n",
    "        denom = np.linalg.norm(A) * np.linalg.norm(B)\n",
    "        return 0.5 + 0.5 * (num/denom)\n",
    "    \n",
    "    def pearsonCorrelationSimilarity(self,A, B):\n",
    "        if len(A) < 3: return 1\n",
    "        else: return 0.5 + 0.5 * np.corrcoef(A, B, rowvar=0)[0][1]\n",
    "        \n",
    "    def estimateSVD(self,item,transformItem):\n",
    "        numberOfItems = np.shape(self.data)[1]\n",
    "        similarityTotal = 0; ratingSimilarityTotal = 0\n",
    "        if self.similiarity == \"cosine\": \n",
    "            for j in range(numberOfItems):\n",
    "                userRating = self.data[self.user, j]\n",
    "                if not (userRating == 0 or j == item):\n",
    "                    similarity = self.cosineSimilarity(transformItem[item, :].T, transformItem[j, :].T)\n",
    "                    similarityTotal += similarity\n",
    "                    ratingSimilarityTotal += similarity * userRating\n",
    "            if similarityTotal == 0: \n",
    "                return 0\n",
    "            else: \n",
    "                return ratingSimilarityTotal / similarityTotal\n",
    "        else:\n",
    "            for j in range(numberOfItems):\n",
    "                userRating = self.data[self.user, j]\n",
    "                if not (userRating == 0 or j == item):\n",
    "                    similarity = self.pearsonCorrelationSimilarity(transformItem[item, :].T, transformItem[j, :].T)\n",
    "                    similarityTotal += similarity\n",
    "                    ratingSimilarityTotal += similarity * userRating\n",
    "            if similarityTotal == 0: \n",
    "                return 0\n",
    "            else: \n",
    "                return ratingSimilarityTotal / similarityTotal\n",
    "    \n",
    "    \n",
    "    def predictRecommendation(self,itemToRate,transformItem):\n",
    "        pageScores = []\n",
    "        for item in itemToRate:\n",
    "            predictedScore = self.estimateSVD(item,transformItem)\n",
    "            pageScores.append((item, predictedScore))\n",
    "        recommendations = sorted(pageScores, key=lambda jj: jj[1], reverse=True)\n",
    "        if not self.N:\n",
    "            return recommendations\n",
    "        else:\n",
    "            return recommendations[:self.N]\n",
    "        \n",
    "        "
   ]
  },
  {
   "cell_type": "code",
   "execution_count": 5,
   "metadata": {},
   "outputs": [],
   "source": [
    "# Get user ID and get number of predictions for user"
   ]
  },
  {
   "cell_type": "code",
   "execution_count": 6,
   "metadata": {},
   "outputs": [],
   "source": [
    "userID = 200\n",
    "predictionNumber = 5\n",
    "c_recommend = Recommend(\"cosine\",userID,predictionNumber)"
   ]
  },
  {
   "cell_type": "code",
   "execution_count": 7,
   "metadata": {},
   "outputs": [],
   "source": [
    "# Load the data"
   ]
  },
  {
   "cell_type": "code",
   "execution_count": 8,
   "metadata": {},
   "outputs": [],
   "source": [
    "c_recommend.loadData(\"./datasets/MS_ratings_matrix.csv\")"
   ]
  },
  {
   "cell_type": "code",
   "execution_count": 9,
   "metadata": {},
   "outputs": [],
   "source": [
    "# Do Dimensionality reduction using SVD"
   ]
  },
  {
   "cell_type": "code",
   "execution_count": 10,
   "metadata": {},
   "outputs": [],
   "source": [
    "U,sigma,VT = c_recommend.processSVD()\n",
    "index = c_recommend.processSingularValue(sigma)\n",
    "U,sigma,VT = c_recommend.processNewSVD(U,sigma,VT,index)\n",
    "diag = c_recommend.getDiagonalMatrix(sigma)"
   ]
  },
  {
   "cell_type": "code",
   "execution_count": 11,
   "metadata": {},
   "outputs": [],
   "source": [
    "# Get unrated items for the user"
   ]
  },
  {
   "cell_type": "code",
   "execution_count": 12,
   "metadata": {},
   "outputs": [],
   "source": [
    "itemsToRate = c_recommend.getUnRatedItems()"
   ]
  },
  {
   "cell_type": "code",
   "execution_count": 13,
   "metadata": {},
   "outputs": [],
   "source": [
    "# Construct matrix with reduced data"
   ]
  },
  {
   "cell_type": "code",
   "execution_count": 14,
   "metadata": {},
   "outputs": [],
   "source": [
    "transforMatrix = c_recommend.getTransformedItems(U,diag)"
   ]
  },
  {
   "cell_type": "code",
   "execution_count": 15,
   "metadata": {},
   "outputs": [],
   "source": [
    "# Predict recommendations using COSINE SIMILARITY"
   ]
  },
  {
   "cell_type": "code",
   "execution_count": 16,
   "metadata": {},
   "outputs": [
    {
     "name": "stderr",
     "output_type": "stream",
     "text": [
      "c:\\users\\sarth\\appdata\\local\\programs\\python\\python37\\lib\\site-packages\\ipykernel_launcher.py:61: RuntimeWarning: invalid value encountered in double_scalars\n"
     ]
    }
   ],
   "source": [
    "recommendations = c_recommend.predictRecommendation(itemsToRate,transforMatrix)"
   ]
  },
  {
   "cell_type": "code",
   "execution_count": 17,
   "metadata": {
    "scrolled": true
   },
   "outputs": [
    {
     "name": "stdout",
     "output_type": "stream",
     "text": [
      "Top 5 Recommended URLs for userID :  200\n",
      "Recommended URL - X1001 with Recommendation Score - 1.0\n",
      "Description    Support Desktop\n",
      "url                   /support\n",
      "Name: X1001, dtype: object\n",
      "Recommended URL - X1002 with Recommendation Score - 1.0\n",
      "Description    End User Produced View\n",
      "url                           /athome\n",
      "Name: X1002, dtype: object\n",
      "Recommended URL - X1003 with Recommendation Score - 1.0\n",
      "Description    Knowledge Base\n",
      "url                       /kb\n",
      "Name: X1003, dtype: object\n",
      "Recommended URL - X1004 with Recommendation Score - 1.0\n",
      "Description    Microsoft.com Search\n",
      "url                         /search\n",
      "Name: X1004, dtype: object\n",
      "Recommended URL - X1005 with Recommendation Score - 1.0\n",
      "Description    Norway\n",
      "url            /norge\n",
      "Name: X1005, dtype: object\n",
      "-------end------------\n",
      "/norge\n"
     ]
    }
   ],
   "source": [
    "ids = []\n",
    "table = c_recommend.processOriginalData(\"./datasets/anonymous-msweb.csv\")\n",
    "print(\"Top 5 Recommended URLs for userID : \", userID)\n",
    "for item, score in recommendations:\n",
    "    page_id = c_recommend.ratings_matrix.columns[item]\n",
    "    ids.append(page_id)\n",
    "    print('Recommended URL - %s with Recommendation Score - %s' % (page_id, score))\n",
    "    print(table.loc[page_id])\n",
    "  \n",
    "print(\"-------end------------\")\n",
    "print((table.loc[page_id][1]))"
   ]
  },
  {
   "cell_type": "code",
   "execution_count": 18,
   "metadata": {},
   "outputs": [],
   "source": [
    "# Predict recommendations using Pearson Correlation SIMILARITY"
   ]
  },
  {
   "cell_type": "code",
   "execution_count": 19,
   "metadata": {},
   "outputs": [
    {
     "name": "stdout",
     "output_type": "stream",
     "text": [
      "Top 5 Recommended URLs for userID :  200\n",
      "Recommended URL - X1001 with Recommendation Score - 1.0\n",
      "Description    Support Desktop\n",
      "url                   /support\n",
      "Name: X1001, dtype: object\n",
      "Recommended URL - X1002 with Recommendation Score - 1.0\n",
      "Description    End User Produced View\n",
      "url                           /athome\n",
      "Name: X1002, dtype: object\n",
      "Recommended URL - X1003 with Recommendation Score - 1.0\n",
      "Description    Knowledge Base\n",
      "url                       /kb\n",
      "Name: X1003, dtype: object\n",
      "Recommended URL - X1004 with Recommendation Score - 1.0\n",
      "Description    Microsoft.com Search\n",
      "url                         /search\n",
      "Name: X1004, dtype: object\n",
      "Recommended URL - X1005 with Recommendation Score - 1.0\n",
      "Description    Norway\n",
      "url            /norge\n",
      "Name: X1005, dtype: object\n"
     ]
    },
    {
     "name": "stderr",
     "output_type": "stream",
     "text": [
      "c:\\users\\sarth\\appdata\\local\\programs\\python\\python37\\lib\\site-packages\\numpy\\lib\\function_base.py:2534: RuntimeWarning: invalid value encountered in true_divide\n",
      "  c /= stddev[:, None]\n",
      "c:\\users\\sarth\\appdata\\local\\programs\\python\\python37\\lib\\site-packages\\numpy\\lib\\function_base.py:2535: RuntimeWarning: invalid value encountered in true_divide\n",
      "  c /= stddev[None, :]\n"
     ]
    }
   ],
   "source": [
    "userID = 200\n",
    "predictionNumber = 5\n",
    "p_recommend = Recommend(\"pearson\",userID,predictionNumber)\n",
    "p_recommend.loadData(\"./datasets/MS_ratings_matrix.csv\")\n",
    "U,sigma,VT = p_recommend.processSVD()\n",
    "index = p_recommend.processSingularValue(sigma)\n",
    "U,sigma,VT = p_recommend.processNewSVD(U,sigma,VT,index)\n",
    "diag = p_recommend.getDiagonalMatrix(sigma)\n",
    "itemsToRate = p_recommend.getUnRatedItems()\n",
    "transforMatrix = p_recommend.getTransformedItems(U,diag)\n",
    "recommendations = p_recommend.predictRecommendation(itemsToRate,transforMatrix)\n",
    "ids = []\n",
    "table = p_recommend.processOriginalData(\"./datasets/anonymous-msweb.csv\")\n",
    "print(\"Top 5 Recommended URLs for userID : \", userID)\n",
    "for item, score in recommendations:\n",
    "    page_id = p_recommend.ratings_matrix.columns[item]\n",
    "    ids.append(page_id)\n",
    "    print('Recommended URL - %s with Recommendation Score - %s' % (page_id, score))\n",
    "    print(table.loc[page_id])"
   ]
  }
 ],
 "metadata": {
  "kernelspec": {
   "display_name": "Python 3",
   "language": "python",
   "name": "python3"
  },
  "language_info": {
   "codemirror_mode": {
    "name": "ipython",
    "version": 3
   },
   "file_extension": ".py",
   "mimetype": "text/x-python",
   "name": "python",
   "nbconvert_exporter": "python",
   "pygments_lexer": "ipython3",
   "version": "3.7.4"
  }
 },
 "nbformat": 4,
 "nbformat_minor": 2
}
