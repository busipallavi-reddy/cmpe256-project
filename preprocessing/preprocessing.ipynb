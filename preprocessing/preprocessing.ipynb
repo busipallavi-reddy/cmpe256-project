{
 "cells": [
  {
   "cell_type": "code",
   "execution_count": 1,
   "metadata": {},
   "outputs": [],
   "source": [
    "import numpy as np\n",
    "from pandas import DataFrame, read_csv\n",
    "import pandas as pd \n",
    "from scipy.sparse import lil_matrix\n",
    "\n",
    "file = r'anonymous-msweb.csv'"
   ]
  },
  {
   "cell_type": "code",
   "execution_count": 2,
   "metadata": {},
   "outputs": [
    {
     "name": "stderr",
     "output_type": "stream",
     "text": [
      "/usr/local/lib/python3.6/dist-packages/IPython/core/interactiveshell.py:3020: DtypeWarning: Columns (2,3) have mixed types. Specify dtype option on import or set low_memory=False.\n",
      "  interactivity=interactivity, compiler=compiler, result=result)\n",
      "/usr/local/lib/python3.6/dist-packages/ipykernel_launcher.py:20: SettingWithCopyWarning: \n",
      "A value is trying to be set on a copy of a slice from a DataFrame.\n",
      "Try using .loc[row_indexer,col_indexer] = value instead\n",
      "\n",
      "See the caveats in the documentation: http://pandas.pydata.org/pandas-docs/stable/indexing.html#indexing-view-versus-copy\n",
      "/usr/local/lib/python3.6/dist-packages/ipykernel_launcher.py:21: SettingWithCopyWarning: \n",
      "A value is trying to be set on a copy of a slice from a DataFrame.\n",
      "Try using .loc[row_indexer,col_indexer] = value instead\n",
      "\n",
      "See the caveats in the documentation: http://pandas.pydata.org/pandas-docs/stable/indexing.html#indexing-view-versus-copy\n"
     ]
    }
   ],
   "source": [
    "raw_df = pd.read_csv(file,names = [\"category\", \"value\",'other-1','other-2'])\n",
    "raw_df = raw_df[['category','value']]\n",
    "raw_df = raw_df[(raw_df.category == 'C') | (raw_df.category == 'V')]\n",
    "\n",
    "users = raw_df[(raw_df.category == 'C')].value.to_numpy()\n",
    "items = raw_df[(raw_df.category == 'V')].value.to_numpy()\n",
    "items = list(set(items))\n",
    "users = list(set(users))\n",
    "items.sort()\n",
    "users.sort()\n",
    "\n",
    "raw_df['cumsum'] = 0\n",
    "\n",
    "raw_df.loc[raw_df['category'] == 'C', 'cumsum'] = [1]\n",
    "\n",
    "raw_df['cumsum'] = raw_df['cumsum'].cumsum()\n",
    "\n",
    "values = raw_df[(raw_df.category == 'V')]\n",
    "\n",
    "values['user'] = values['cumsum'].apply(lambda x: users[x-1])\n",
    "values['item'] = values['value']\n",
    "values = values[['user', 'item']]\n",
    "\n",
    "n = len(users)\n",
    "m = len(items)\n",
    "sparse_mat =  np.zeros((n,m))\n",
    "\n",
    "for index, row in values.iterrows():\n",
    "    sparse_mat[users.index(row['user']), items.index(row['item'])] = 1\n",
    "\n",
    "items = list(map(lambda x: \"X\"+str(x), items))\n",
    "users = list(map(lambda x: str(x), users))\n",
    "df = pd.DataFrame(sparse_mat, index=users, columns=items)"
   ]
  },
  {
   "cell_type": "code",
   "execution_count": 3,
   "metadata": {},
   "outputs": [],
   "source": [
    "df.to_csv(\"mat.csv\")"
   ]
  }
 ],
 "metadata": {
  "kernelspec": {
   "display_name": "Python 3",
   "language": "python",
   "name": "python3"
  },
  "language_info": {
   "codemirror_mode": {
    "name": "ipython",
    "version": 3
   },
   "file_extension": ".py",
   "mimetype": "text/x-python",
   "name": "python",
   "nbconvert_exporter": "python",
   "pygments_lexer": "ipython3",
   "version": "3.6.8"
  }
 },
 "nbformat": 4,
 "nbformat_minor": 2
}
