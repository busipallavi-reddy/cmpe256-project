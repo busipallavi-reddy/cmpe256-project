{
 "cells": [
  {
   "cell_type": "code",
   "execution_count": 8,
   "metadata": {},
   "outputs": [],
   "source": [
    "import numpy as np\n",
    "from pandas import DataFrame, read_csv\n",
    "import pandas as pd \n",
    "from scipy.sparse import lil_matrix\n",
    "\n",
    "file = './../dataset/anonymous-msweb.data'"
   ]
  },
  {
   "cell_type": "code",
   "execution_count": 9,
   "metadata": {},
   "outputs": [
    {
     "name": "stderr",
     "output_type": "stream",
     "text": [
      "/usr/local/lib/python3.6/dist-packages/ipykernel_launcher.py:20: SettingWithCopyWarning: \n",
      "A value is trying to be set on a copy of a slice from a DataFrame.\n",
      "Try using .loc[row_indexer,col_indexer] = value instead\n",
      "\n",
      "See the caveats in the documentation: http://pandas.pydata.org/pandas-docs/stable/indexing.html#indexing-view-versus-copy\n",
      "/usr/local/lib/python3.6/dist-packages/ipykernel_launcher.py:21: SettingWithCopyWarning: \n",
      "A value is trying to be set on a copy of a slice from a DataFrame.\n",
      "Try using .loc[row_indexer,col_indexer] = value instead\n",
      "\n",
      "See the caveats in the documentation: http://pandas.pydata.org/pandas-docs/stable/indexing.html#indexing-view-versus-copy\n"
     ]
    },
    {
     "name": "stdout",
     "output_type": "stream",
     "text": [
      "         user  item\n",
      "302     10001  1000\n",
      "303     10001  1001\n",
      "304     10001  1002\n",
      "306     10002  1001\n",
      "307     10002  1003\n",
      "309     10003  1001\n",
      "310     10003  1003\n",
      "311     10003  1004\n",
      "313     10004  1005\n",
      "315     10005  1006\n",
      "317     10006  1003\n",
      "318     10006  1004\n",
      "320     10007  1007\n",
      "322     10008  1004\n",
      "324     10009  1008\n",
      "325     10009  1009\n",
      "327     10010  1010\n",
      "328     10010  1000\n",
      "329     10010  1011\n",
      "330     10010  1012\n",
      "331     10010  1013\n",
      "332     10010  1014\n",
      "334     10011  1015\n",
      "335     10011  1016\n",
      "336     10011  1017\n",
      "337     10011  1018\n",
      "338     10011  1019\n",
      "340     10012  1020\n",
      "341     10012  1021\n",
      "343     10013  1022\n",
      "...       ...   ...\n",
      "131628  42703  1004\n",
      "131630  42704  1064\n",
      "131631  42704  1137\n",
      "131632  42704  1026\n",
      "131633  42704  1041\n",
      "131635  42705  1158\n",
      "131636  42705  1034\n",
      "131637  42705  1004\n",
      "131639  42706  1059\n",
      "131640  42706  1003\n",
      "131641  42706  1001\n",
      "131642  42706  1004\n",
      "131644  42707  1008\n",
      "131645  42707  1030\n",
      "131646  42707  1009\n",
      "131647  42707  1058\n",
      "131648  42707  1004\n",
      "131649  42707  1018\n",
      "131651  42708  1008\n",
      "131652  42708  1027\n",
      "131653  42708  1123\n",
      "131654  42708  1038\n",
      "131655  42708  1026\n",
      "131656  42708  1041\n",
      "131658  42709  1001\n",
      "131659  42709  1003\n",
      "131661  42710  1035\n",
      "131662  42710  1001\n",
      "131663  42710  1018\n",
      "131665  42711  1008\n",
      "\n",
      "[98654 rows x 2 columns]\n"
     ]
    }
   ],
   "source": [
    "raw_df = pd.read_csv(file,names = [\"category\", \"value\",'other-1','other-2'])\n",
    "raw_df = raw_df[['category','value']]\n",
    "raw_df = raw_df[(raw_df.category == 'C') | (raw_df.category == 'V')]\n",
    "\n",
    "users = raw_df[(raw_df.category == 'C')].value.to_numpy()\n",
    "items = raw_df[(raw_df.category == 'V')].value.to_numpy()\n",
    "items = list(set(items))\n",
    "users = list(set(users))\n",
    "items.sort()\n",
    "users.sort()\n",
    "\n",
    "raw_df['cumsum'] = 0\n",
    "\n",
    "raw_df.loc[raw_df['category'] == 'C', 'cumsum'] = [1]\n",
    "\n",
    "raw_df['cumsum'] = raw_df['cumsum'].cumsum()\n",
    "\n",
    "values = raw_df[(raw_df.category == 'V')]\n",
    "\n",
    "values['user'] = values['cumsum'].apply(lambda x: users[x-1])\n",
    "values['item'] = values['value']\n",
    "values = values[['user', 'item']]\n",
    "\n",
    "n = len(users)\n",
    "m = len(items)\n",
    "\n",
    "print(values)\n",
    "sparse_mat =  np.zeros((n,m))\n",
    "\n",
    "for index, row in values.iterrows():\n",
    "    sparse_mat[users.index(row['user']), items.index(row['item'])] = 1\n",
    "\n",
    "items = list(map(lambda x: \"X\"+str(x), items))\n",
    "users = list(map(lambda x: str(x), users))\n",
    "df = pd.DataFrame(sparse_mat, index=users, columns=items)"
   ]
  },
  {
   "cell_type": "code",
   "execution_count": 10,
   "metadata": {},
   "outputs": [],
   "source": [
    "df.to_csv(\"./../dataset/mat.csv\")\n",
    "df.loc[\"42612\":,:\"X1100\"].to_csv(\"./../dataset/test.csv\")"
   ]
  }
 ],
 "metadata": {
  "kernelspec": {
   "display_name": "Python 3",
   "language": "python",
   "name": "python3"
  },
  "language_info": {
   "codemirror_mode": {
    "name": "ipython",
    "version": 3
   },
   "file_extension": ".py",
   "mimetype": "text/x-python",
   "name": "python",
   "nbconvert_exporter": "python",
   "pygments_lexer": "ipython3",
   "version": "3.6.8"
  }
 },
 "nbformat": 4,
 "nbformat_minor": 2
}
